{
 "cells": [
  {
   "cell_type": "markdown",
   "id": "526c8824",
   "metadata": {},
   "source": [
    "# Seed plans demo!\n",
    "\n",
    "First, we'll do a simple example using `recursive_seed_part`. \n",
    "\n",
    "Next, we'll dive into how the parameters change the function's behavior, and some heuristics for when to try different settings. \n",
    "\n",
    "Finally, we'll explore what to do if `recursive_seed_part` doesn't quickly return a partition of desired population balance by viewing seed plan generation as a multi-step process."
   ]
  },
  {
   "cell_type": "code",
   "execution_count": null,
   "id": "1d4bc4b0",
   "metadata": {},
   "outputs": [],
   "source": [
    "%matplotlib inline\n",
    "%config InlineBackend.figure_format = 'svg'\n",
    "\n",
    "import matplotlib.pyplot as plt\n",
    "from gerrychain import (GeographicPartition, Partition, Graph, MarkovChain,\n",
    "                        proposals, updaters, constraints, accept, Election)\n",
    "from gerrychain.proposals import recom\n",
    "from gerrychain.tree import recursive_tree_part, recursive_seed_part, bipartition_tree, bipartition_tree_random #,recursive_seed_part\n",
    "import numpy as np"
   ]
  },
  {
   "cell_type": "markdown",
   "id": "2ed67cc5",
   "metadata": {},
   "source": [
    "## Part I. A first example"
   ]
  },
  {
   "cell_type": "markdown",
   "id": "f724bdee",
   "metadata": {},
   "source": [
    "###  Load the graph we want to use\n",
    "\n",
    "First, git clone the CO shapefile from https://github.com/mggg-states/CO-shapefiles"
   ]
  },
  {
   "cell_type": "code",
   "execution_count": null,
   "id": "88846ac6",
   "metadata": {},
   "outputs": [],
   "source": [
    "# change this path to locate your CO shapefiles\n",
    "graph = Graph.from_file(\"./../states/CO-shapefiles/co_precincts.shp\")"
   ]
  },
  {
   "cell_type": "markdown",
   "id": "59cd48b6",
   "metadata": {},
   "source": [
    "### Find the total population of the region\n",
    "\n",
    "Here, we use any existing partition (with any number of districts) to compute `total_population`, but one can loop over units if there is no partition."
   ]
  },
  {
   "cell_type": "code",
   "execution_count": null,
   "id": "d4ffeb4f",
   "metadata": {},
   "outputs": [],
   "source": [
    "pop_col = \"TOTPOP\"\n",
    "existing_partition = \"CD116FP\"\n",
    "place_name = \"CO\"\n",
    "\n",
    "my_updaters = {\"population\": updaters.Tally(pop_col, alias=\"population\")}\n",
    "initial_partition = GeographicPartition(graph, assignment=existing_partition, updaters = my_updaters)\n",
    "total_population = sum(initial_partition[\"population\"].values())"
   ]
  },
  {
   "cell_type": "markdown",
   "id": "fe4c4d24",
   "metadata": {},
   "source": [
    "### Generate a seed plan!\n",
    "\n",
    "Here, we are generating a plan with `num_dists = 11` districts within `epsilon = 2%` population balance."
   ]
  },
  {
   "cell_type": "code",
   "execution_count": null,
   "id": "9cb651b0",
   "metadata": {},
   "outputs": [],
   "source": [
    "# set the desired number of districts and population deviation\n",
    "num_dists = 11\n",
    "epsilon = .02"
   ]
  },
  {
   "cell_type": "code",
   "execution_count": null,
   "id": "bbb5c80d",
   "metadata": {},
   "outputs": [],
   "source": [
    "# generate the plan! \n",
    "pop_target = total_population / num_dists\n",
    "result = recursive_seed_part(graph, \n",
    "                             range(num_dists), \n",
    "                             pop_target, \n",
    "                             pop_col, \n",
    "                             epsilon, \n",
    "                             method=bipartition_tree, \n",
    "                             n = None, \n",
    "                             ceil = None)"
   ]
  },
  {
   "cell_type": "code",
   "execution_count": null,
   "id": "0594f724",
   "metadata": {},
   "outputs": [],
   "source": [
    "# plot the plan\n",
    "partition = GeographicPartition(graph, result, updaters=my_updaters)\n",
    "partition.plot(cmap=\"tab20\")"
   ]
  },
  {
   "cell_type": "markdown",
   "id": "699b5433",
   "metadata": {},
   "source": [
    "## Part II. How to generate your own seed plan using `recursive_seed_part`\n",
    "\n",
    "To generate a seed plan using `recursive_seed_part`, there are two parameters to keep in mind: `n` and `ceil`.\n",
    "\n",
    "The function `recursive_seed_part` works by recursively splitting a region into smaller chunks, and then splitting those chunks into smaller chunks, until the ideal district size is reached. These two parameters allow you to control the number of chunks a region will be split into at each level.\n",
    "\n",
    "See a visual example of these three cases here: https://github.com/blumt/seed_plans/blob/main/seed_plan_examples.pdf\n",
    "\n",
    "### Case 1. If `n` is `None` and `ceil` is `None`\n",
    "\n",
    "If both `n` and `ceil` are set to `None` (this is the default state), then let `k_1*k_2*...*k_m` be the prime factorization of the desired number of districts, where `k_i` are in decreasing order. The region is first split into `k_1` chunks, then each chunk is split into `k_2` chunks, and so on.\n",
    "\n",
    "In general, these parameters work well when the number of districts has many small prime factors. This may not work as well when the number of districts is a large prime, or is a product of a few large primes.\n",
    "\n",
    "### Case 2. If `n` is a positive integer greater than 1\n",
    "\n",
    "In this case, `ceil` is irrelevant. In this case, the region is recursively split into districts as follows: \n",
    "* if the number of districts a region should be split into is divisible by `n`, the region is divided into `n` balanced chunks; \n",
    "* otherwise, there is a remainder `r` when the number of districts is divided by `n`. Bite off `r` districts from the region, and then split the remaining region into `n` chunks.\n",
    "Continue recursively splitting the chunks into districts as above.\n",
    "\n",
    "This setting works best when `n` is a small prime, such as 2,3, or 5. This setting works well in a general case.\n",
    "\n",
    "### Case 3. If `n` is `None` and `ceil` is a positive integer greater than 2\n",
    "\n",
    "In this case, `ceil` is an upper bound on the number of chunks a region can be split into at any given step. The region is recursively split into districts as follows. Let `k` be the largest prime factor of the number of districts a region is to be split into which is at most `ceil`. \n",
    "* If `k` exists, then split the region into `k` balanced chunks\n",
    "* If `k` does not exist (i.e. the number of districts has no prime factor less than `ceil`), then bite off one district from the region; the remaining region is now a chunk.\n",
    "Continue recursively splitting chunks into districts as above.\n",
    "\n",
    "This setting works well in a general case. If the desired number of districts has many factors that are small primes, but one or two large prime factors, setting `ceil` to be 5 or 7 can be effective. As `ceil` is large, this is similar to case 1 above, and as ceil is small this is similar to case 2.\n",
    "\n",
    "### Example(s)\n",
    "\n",
    "Play around with the number of districts, population balance, `n`, and `ceil` in the example below! \n",
    "* What settings work best when the number of districts is set to a large prime, like 89 or 97?\n",
    "* What works best when the number of districts has a nice prime factorization, like 75?\n",
    "* What if the number of districts has one large prime factor, like 38?"
   ]
  },
  {
   "cell_type": "code",
   "execution_count": null,
   "id": "7e3b940a",
   "metadata": {},
   "outputs": [],
   "source": [
    "num_dists = 75\n",
    "epsilon = .02\n",
    "pop_target = total_population / num_dists\n",
    "result = recursive_seed_part(graph, \n",
    "                             range(num_dists), \n",
    "                             pop_target, \n",
    "                             pop_col, \n",
    "                             epsilon, \n",
    "                             method=bipartition_tree, \n",
    "                             n = None, #    <-- try changing this!\n",
    "                             ceil = None) # <-- try changing this!\n",
    "# plot the plan\n",
    "partition = GeographicPartition(graph, result, updaters=my_updaters)\n",
    "partition.plot(cmap=\"flag\")"
   ]
  },
  {
   "cell_type": "markdown",
   "id": "49a1a54a",
   "metadata": {},
   "source": [
    "## Part III. But `recursive_seed_part` isn't working for my seed plan!\n",
    "\n",
    "You might be looking for a seed plan with 293 districts or balanced within .5% population deviation. In cases with a large number of districts and/or a very small goal population balance, `recursive_seed_part` might be slow or ineffective at finding a solution to your seed plan woes. Luckily, there are ways around this.\n",
    "\n",
    "To get around this, here's a two-step process: first, generate a seed plan with the desired number of districts, but with a too-high population deviation. Next, run a chain on the initial partition until you get a plan that is within the desired population balance. This method, and the code for it, is due to Amy Becker.\n",
    "\n",
    "### Step 1. Generate an initial plan\n",
    "The goal of this step is to generate an initial plan with the desired number of districts, with little to no regard for population deviation. You have a few options. \n",
    "* You can use `recursive_seed_part` or `recursive_tree_part` to generate an initial plan by setting `epsilon` (the population deviation) to be higher than your desired balance. \n",
    "* You can completely disregard population balance by randomly assigning `num_dists - 1` precincts to be entire districts, and let the final district be the remaining region. \n",
    "* Or any other way you can think of! (e.g. draw it in Districtr, use some other method, etc)\n",
    "\n",
    "### Step 2. Run a chain to lower the population deviation to within the desired range\n",
    "Using the initial partition from step 1, run a chain to lower the population deviation by merging two adjacent districts and then dividing the merged region into two new balanced districts. \n",
    "\n",
    "In general, this step will be quicker if the initial plan from step 1 already has a smaller population deviation.\n",
    "\n",
    "### Examples: "
   ]
  },
  {
   "cell_type": "code",
   "execution_count": null,
   "id": "2b624da7",
   "metadata": {},
   "outputs": [],
   "source": [
    "# import code to generate random initial plans, and to run targeted chains\n",
    "# these methods are due to Amy Becker\n",
    "from seed_plans_iterative_bipartition import gen_initial_partition, pop_shuffle, population_deviation"
   ]
  },
  {
   "cell_type": "markdown",
   "id": "e1ae60a0",
   "metadata": {},
   "source": [
    "#### Example using `recursive_seed_part` to generate the initial partition\n",
    "\n",
    "The goal of this example is to compute a 65-district seed plan for Colorado within 2% population deviation."
   ]
  },
  {
   "cell_type": "code",
   "execution_count": null,
   "id": "8bd35e57",
   "metadata": {},
   "outputs": [],
   "source": [
    "# Step 1: Generate an initial plan using recursive_seed_part balanced within 10%\n",
    "num_dists = 65\n",
    "epsilon = .1\n",
    "pop_target = total_population / num_dists\n",
    "result = recursive_seed_part(graph, \n",
    "                             range(num_dists), \n",
    "                             pop_target, \n",
    "                             pop_col, \n",
    "                             epsilon, \n",
    "                             method=bipartition_tree, \n",
    "                             n = None, \n",
    "                             ceil = None)\n",
    "# plot the plan\n",
    "partition = GeographicPartition(graph, result, updaters=my_updaters)\n",
    "partition.plot(cmap=\"flag\")"
   ]
  },
  {
   "cell_type": "code",
   "execution_count": null,
   "id": "dc5f288c",
   "metadata": {},
   "outputs": [],
   "source": [
    "# Step 2: Run a targeted chain to lower the population deviation\n",
    "pop_dev = .02\n",
    "for i in range(9000):\n",
    "    partition = pop_shuffle(partition, pop_col, pop_dev/2, weights = True)\n",
    "    if population_deviation(partition) < pop_dev: #\n",
    "        print(i, population_deviation(partition))\n",
    "        break\n",
    "    if i % 100 == 0:\n",
    "        print(i, population_deviation(partition))\n",
    "\n",
    "# plot the plan\n",
    "partition.plot(cmap=\"flag\")"
   ]
  },
  {
   "cell_type": "markdown",
   "id": "3f76e63c",
   "metadata": {},
   "source": [
    "#### Example by randomly assigning nodes to generate the initial plan\n",
    "\n",
    "The goal again is to generate a 65-district plan for CO within 2% population deviation."
   ]
  },
  {
   "cell_type": "code",
   "execution_count": null,
   "id": "2d200903",
   "metadata": {},
   "outputs": [],
   "source": [
    "# Step 1: Generate the initial plan\n",
    "num_dists = 65\n",
    "partition = gen_initial_partition(graph, num_dists, my_updaters)\n",
    "# plot the initial plan\n",
    "partition.plot(cmap=\"prism\")"
   ]
  },
  {
   "cell_type": "code",
   "execution_count": null,
   "id": "36cef9fb",
   "metadata": {},
   "outputs": [],
   "source": [
    "# Step 2: Run a targeted chain to lower the population deviation\n",
    "pop_dev = 0.02\n",
    "#first get down to be reasonably balanced\n",
    "for i in range(1000):\n",
    "    partition = pop_shuffle(partition, pop_col, 0.10, weights = True)\n",
    "    if population_deviation(partition) < pop_dev:\n",
    "        print(i, population_deviation(partition))\n",
    "        break\n",
    "    if i % 100 == 0:\n",
    "        print(i, population_deviation(partition))\n",
    "        \n",
    "#then refine balance\n",
    "for i in range(10000):\n",
    "    partition = pop_shuffle(partition, pop_col, pop_dev/2, weights = True)\n",
    "    if population_deviation(partition) < pop_dev:\n",
    "        print(i, population_deviation(partition))\n",
    "        break\n",
    "    if i % 100 == 0:\n",
    "        print(i, population_deviation(partition))\n",
    "\n",
    "# plot the plan\n",
    "partition.plot(cmap=\"prism\")"
   ]
  },
  {
   "cell_type": "code",
   "execution_count": null,
   "id": "345baecb",
   "metadata": {},
   "outputs": [],
   "source": []
  }
 ],
 "metadata": {
  "kernelspec": {
   "display_name": "Python 3",
   "language": "python",
   "name": "python3"
  },
  "language_info": {
   "codemirror_mode": {
    "name": "ipython",
    "version": 3
   },
   "file_extension": ".py",
   "mimetype": "text/x-python",
   "name": "python",
   "nbconvert_exporter": "python",
   "pygments_lexer": "ipython3",
   "version": "3.7.10"
  }
 },
 "nbformat": 4,
 "nbformat_minor": 5
}
